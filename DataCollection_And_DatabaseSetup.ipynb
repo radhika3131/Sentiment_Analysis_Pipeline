{
 "cells": [
  {
   "cell_type": "code",
   "execution_count": 1,
   "id": "e1e41a42-219f-4974-8ec8-2369f436ec29",
   "metadata": {},
   "outputs": [
    {
     "name": "stdout",
     "output_type": "stream",
     "text": [
      "Downloading and loading the IMDB dataset from Hugging Face...\n",
      "\n",
      "Dataset Details:\n",
      "DatasetDict({\n",
      "    train: Dataset({\n",
      "        features: ['text', 'label'],\n",
      "        num_rows: 25000\n",
      "    })\n",
      "    test: Dataset({\n",
      "        features: ['text', 'label'],\n",
      "        num_rows: 25000\n",
      "    })\n",
      "    unsupervised: Dataset({\n",
      "        features: ['text', 'label'],\n",
      "        num_rows: 50000\n",
      "    })\n",
      "})\n",
      "\n",
      "Train set rows: 25000\n",
      "Test set rows: 25000\n",
      "\n",
      "Label Information:\n",
      "0 -> Negative Sentiment\n",
      "1 -> Positive Sentiment\n",
      "\n",
      "Train sentiment distribution:\n",
      "Negative (0): 12500\n",
      "Positive (1): 12500\n",
      "\n",
      "Test sentiment distribution:\n",
      "Negative (0): 12500\n",
      "Positive (1): 12500\n",
      "\n",
      " Dataset successfully loaded and verified!\n"
     ]
    }
   ],
   "source": [
    "# Import necessary libraries\n",
    "from datasets import load_dataset\n",
    "from collections import Counter\n",
    "\n",
    "# Step 1: Load the dataset\n",
    "print(\"Downloading and loading the IMDB dataset from Hugging Face...\")\n",
    "imdb = load_dataset(\"imdb\")\n",
    "\n",
    "# Step 2: Confirm dataset splits and sizes\n",
    "print(\"\\nDataset Details:\")\n",
    "print(imdb)\n",
    "\n",
    "train_size = len(imdb['train'])\n",
    "test_size = len(imdb['test'])\n",
    "\n",
    "print(f\"\\nTrain set rows: {train_size}\")\n",
    "print(f\"Test set rows: {test_size}\")\n",
    "\n",
    "# Step 3: Check sentiment distribution\n",
    "train_labels = imdb['train']['label']\n",
    "test_labels = imdb['test']['label']\n",
    "\n",
    "print(\"\\nLabel Information:\")\n",
    "print(\"0 -> Negative Sentiment\")\n",
    "print(\"1 -> Positive Sentiment\")\n",
    "\n",
    "print(\"\\nTrain sentiment distribution:\")\n",
    "train_distribution = Counter(train_labels)\n",
    "print(f\"Negative (0): {train_distribution[0]}\")\n",
    "print(f\"Positive (1): {train_distribution[1]}\")\n",
    "\n",
    "print(\"\\nTest sentiment distribution:\")\n",
    "test_distribution = Counter(test_labels)\n",
    "print(f\"Negative (0): {test_distribution[0]}\")\n",
    "print(f\"Positive (1): {test_distribution[1]}\")\n",
    "\n",
    "# Final Verification\n",
    "if train_size == 25000 and test_size == 25000:\n",
    "    print(\"\\n Dataset successfully loaded and verified!\")\n",
    "else:\n",
    "    print(\"\\n Dataset size does not match expectations. Please recheck the source.\")\n"
   ]
  },
  {
   "cell_type": "markdown",
   "id": "bd574985-c2cc-4eef-ad08-c13d72517aa0",
   "metadata": {},
   "source": [
    "### Database Setup with SQLite"
   ]
  },
  {
   "cell_type": "code",
   "execution_count": 2,
   "id": "3766ec33-15f0-48d4-a186-5d3588d56c4b",
   "metadata": {},
   "outputs": [
    {
     "name": "stdout",
     "output_type": "stream",
     "text": [
      "Preparing data for database insertion...\n"
     ]
    }
   ],
   "source": [
    "# Import necessary libraries\n",
    "import sqlite3\n",
    "# Combine datasets and mark splits\n",
    "print(\"Preparing data for database insertion...\")\n",
    "train_data = [(review['text'], 'positive' if review['label'] == 1 else 'negative', 'train') for review in imdb['train']]\n",
    "test_data = [(review['text'], 'positive' if review['label'] == 1 else 'negative', 'test') for review in imdb['test']]\n",
    "all_data = train_data + test_data"
   ]
  },
  {
   "cell_type": "code",
   "execution_count": 3,
   "id": "31a27bb0-ee75-4a11-97df-e61a77287208",
   "metadata": {},
   "outputs": [],
   "source": [
    "# Step 1: Connect to SQLite database\n",
    "conn = sqlite3.connect(\"imdb_reviews.db\")\n",
    "cursor = conn.cursor()"
   ]
  },
  {
   "cell_type": "code",
   "execution_count": 4,
   "id": "87550ba2-38be-46e9-b98f-97e97958eba1",
   "metadata": {},
   "outputs": [
    {
     "name": "stdout",
     "output_type": "stream",
     "text": [
      "Creating the table imdb_reviews...\n",
      "Table created successfully!\n"
     ]
    }
   ],
   "source": [
    "# Step 2: Create the table\n",
    "print(\"Creating the table imdb_reviews...\")\n",
    "cursor.execute(\"\"\"\n",
    "CREATE TABLE IF NOT EXISTS imdb_reviews (\n",
    "    id INTEGER PRIMARY KEY AUTOINCREMENT,\n",
    "    review_text TEXT NOT NULL,\n",
    "    sentiment TEXT NOT NULL,\n",
    "    data_split TEXT NOT NULL\n",
    ");\n",
    "\"\"\")\n",
    "conn.commit()\n",
    "print(\"Table created successfully!\")"
   ]
  },
  {
   "cell_type": "code",
   "execution_count": 5,
   "id": "40f47f75-3d90-4f1c-90c9-ca7978d971c7",
   "metadata": {},
   "outputs": [
    {
     "name": "stdout",
     "output_type": "stream",
     "text": [
      "Inserting all data into the table...\n",
      "Inserted 50000 rows into the table.\n"
     ]
    }
   ],
   "source": [
    "# Step 3: Insert all data into the table\n",
    "print(\"Inserting all data into the table...\")\n",
    "cursor.executemany(\"INSERT INTO imdb_reviews (review_text, sentiment, data_split) VALUES (?, ?, ?);\", all_data)\n",
    "conn.commit()\n",
    "print(f\"Inserted {len(all_data)} rows into the table.\")"
   ]
  },
  {
   "cell_type": "code",
   "execution_count": 6,
   "id": "a98c437d-b0e6-443b-b4f5-7e63a53c425f",
   "metadata": {},
   "outputs": [
    {
     "name": "stdout",
     "output_type": "stream",
     "text": [
      "Verifying the first 5 rows in the table...\n",
      "(1, 'i rented i am curiousyellow from my video store because of all the controversy that surrounded it when it was first released in 1967 i also heard that at first it was seized by us customs if it ever tried to enter this country therefore being a fan of films considered controversial i really had to see this for myselfthe plot is centered around a young swedish drama student named lena who wants to learn everything she can about life in particular she wants to focus her attentions to making some sort of documentary on what the average swede thought about certain political issues such as the vietnam war and race issues in the united states in between asking politicians and ordinary denizens of stockholm about their opinions on politics she has sex with her drama teacher classmates and married menwhat kills me about i am curiousyellow is that 40 years ago this was considered pornographic really the sex and nudity scenes are few and far between even then its not shot like some cheaply made porno while my countrymen mind find it shocking in reality sex and nudity are a major staple in swedish cinema even ingmar bergman arguably their answer to good old boy john ford had sex scenes in his filmsi do commend the filmmakers for the fact that any sex shown in the film is shown for artistic purposes rather than just to shock people and make money to be shown in pornographic theaters in america i am curiousyellow is a good film for anyone wanting to study the meat and potatoes no pun intended of swedish cinema but really this film doesnt have much of a plot', 'negative', 'train')\n",
      "(2, 'i am curious yellow is a risible and pretentious steaming pile it doesnt matter what ones political views are because this film can hardly be taken seriously on any level as for the claim that frontal male nudity is an automatic nc17 that isnt true ive seen rrated films with male nudity granted they only offer some fleeting views but where are the rrated films with gaping vulvas and flapping labia nowhere because they dont exist the same goes for those crappy cable shows schlongs swinging in the breeze but not a clitoris in sight and those pretentious indie movies like the brown bunny in which were treated to the site of vincent gallos throbbing johnson but not a trace of pink visible on chloe sevigny before crying or implying doublestandard in matters of nudity the mentally obtuse should take into account one unavoidably obvious anatomical difference between men and women there are no genitals on display when actresses appears nude and the same cannot be said for a man in fact you generally wont see female genitals in an american film in anything short of porn or explicit erotica this alleged doublestandard is less a double standard than an admittedly depressing ability to come to terms culturally with the insides of womens bodies', 'negative', 'train')\n",
      "(3, 'if only to avoid making this type of film in the future this film is interesting as an experiment but tells no cogent storyone might feel virtuous for sitting thru it because it touches on so many important issues but it does so without any discernable motive the viewer comes away with no new perspectives unless one comes up with one while ones mind wanders as it will invariably do during this pointless filmone might better spend ones time staring out a window at a tree growing', 'negative', 'train')\n",
      "(4, 'this film was probably inspired by godards masculin féminin and i urge you to see that film insteadthe film has two strong elements and those are 1 the realistic acting 2 the impressive undeservedly good photo apart from that what strikes me most is the endless stream of silliness lena nyman has to be most annoying actress in the world she acts so stupid and with all the nudity in this filmits unattractive comparing to godards film intellectuality has been replaced with stupidity without going too far on this subject i would say that follows from the difference in ideals between the french and the swedish societya movie of its time and place 210', 'negative', 'train')\n",
      "(5, 'oh brotherafter hearing about this ridiculous film for umpteen years all i can think of is that old peggy lee songis that all there is i was just an early teen when this smoked fish hit the us i was too young to get in the theater although i did manage to sneak into goodbye columbus then a screening at a local film museum beckoned  finally i could see this film except now i was as old as my parents were when they schlepped to see itthe only reason this film was not condemned to the anonymous sands of time was because of the obscenity case sparked by its us release millions of people flocked to this stinker thinking they were going to see a sex filminstead they got lots of closeups of gnarly repulsive swedes onstreet interviews in bland shopping malls asinie political pretensionand feeble whocares simulated sex scenes with saggy pale actorscultural icon holy grail historic artifactwhatever this thing was shred it burn it then stuff the ashes in a lead boxelite esthetes still scrape to find value in its boring pseudo revolutionary political spewingsbut if it werent for the censorship scandal it would have been ignored then forgotteninstead the i am blank blank rhythymed title was repeated endlessly for years as a titilation for porno films i am curious lavender  for gay films i am curious black  for blaxploitation films etc and every ten years or so the thing rises from the dead to be viewed by a new generation of suckers who want to see that naughty sex film that revolutionized the film industryyeesh avoid like the plagueor if you must see it  rent the video and fast forward to the dirty parts just to get it over with', 'negative', 'train')\n"
     ]
    }
   ],
   "source": [
    "# Step 4: Verify the data in the table\n",
    "print(\"Verifying the first 5 rows in the table...\")\n",
    "cursor.execute(\"SELECT * FROM imdb_reviews LIMIT 5;\")\n",
    "rows = cursor.fetchall()\n",
    "for row in rows:\n",
    "    print(row)"
   ]
  },
  {
   "cell_type": "code",
   "execution_count": 7,
   "id": "0b759b08-7497-4cd6-9d81-b0ef68e5e9d0",
   "metadata": {},
   "outputs": [
    {
     "name": "stdout",
     "output_type": "stream",
     "text": [
      "Database setup complete. Connection closed.\n"
     ]
    }
   ],
   "source": [
    "# Step 5: Close the database connection\n",
    "conn.close()\n",
    "print(\"Database setup complete. Connection closed.\")"
   ]
  },
  {
   "cell_type": "code",
   "execution_count": null,
   "id": "681835e7-a12c-4ecf-9e0d-abf0a319036b",
   "metadata": {},
   "outputs": [],
   "source": []
  },
  {
   "cell_type": "code",
   "execution_count": null,
   "id": "f4c2e7f0-065b-4413-9470-31d565dd8c0f",
   "metadata": {},
   "outputs": [],
   "source": []
  }
 ],
 "metadata": {
  "kernelspec": {
   "display_name": "Python 3 (sentiment_env)",
   "language": "python",
   "name": "sentiment_env"
  },
  "language_info": {
   "codemirror_mode": {
    "name": "ipython",
    "version": 3
   },
   "file_extension": ".py",
   "mimetype": "text/x-python",
   "name": "python",
   "nbconvert_exporter": "python",
   "pygments_lexer": "ipython3",
   "version": "3.9.13"
  }
 },
 "nbformat": 4,
 "nbformat_minor": 5
}
